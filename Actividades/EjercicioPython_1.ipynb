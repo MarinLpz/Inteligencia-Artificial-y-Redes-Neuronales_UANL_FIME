{
  "nbformat": 4,
  "nbformat_minor": 0,
  "metadata": {
    "colab": {
      "provenance": []
    },
    "kernelspec": {
      "name": "python3",
      "display_name": "Python 3"
    },
    "language_info": {
      "name": "python"
    }
  },
  "cells": [
    {
      "cell_type": "code",
      "execution_count": 1,
      "metadata": {
        "id": "UQgosKojxPj_"
      },
      "outputs": [],
      "source": [
        "#A2.- Ejercicios en Phyton \n",
        "#Juan Carlos Marín López 1914242\n",
        "#Clase N1 "
      ]
    },
    {
      "cell_type": "code",
      "source": [
        "nombre = input(\"Hola, ¿cuál es tu nombre?: \")\n",
        "\n",
        "if nombre.lower() in ['juan']:\n",
        "    print(\"Lo siento, no puedo saludarte porque eres Juan\")\n",
        "\n",
        "elif nombre.lower() in ['ana']:\n",
        "    print(\"Lo siento, no puedo saludarte porque eres Ana.\")\n",
        "\n",
        "elif nombre.lower() in ['pedro']:\n",
        "    print(\"Lo siento, no puedo saludarte porque eres Pedro.\")\n",
        "\n",
        "else:\n",
        "    print(\"Holaa, \" + nombre + \"!!!.\")"
      ],
      "metadata": {
        "colab": {
          "base_uri": "https://localhost:8080/"
        },
        "id": "MqAl46rTyfA0",
        "outputId": "77b65638-b25e-4ddf-f16c-f08b33086b49"
      },
      "execution_count": 5,
      "outputs": [
        {
          "output_type": "stream",
          "name": "stdout",
          "text": [
            "Hola, ¿cuál es tu nombre?: Carlos\n",
            "Holaa, Carlos!!!.\n"
          ]
        }
      ]
    },
    {
      "cell_type": "code",
      "source": [
        "    n = int(input(\"¿Cuántos elementos quieres ingresar? \"))\n",
        "    lista = []\n",
        "    for i in range(n):\n",
        "        elemento = input(\"Ingresa el elemento \" + str(i+1) + \": \")\n",
        "        lista.append(elemento)\n",
        "    lista_invertida = lista[::-1]\n",
        "    print(\"La lista invertida es:\", lista_invertida)"
      ],
      "metadata": {
        "colab": {
          "base_uri": "https://localhost:8080/"
        },
        "id": "xTxSCJq72Zv7",
        "outputId": "91552b07-efb0-4f73-cef3-4716098cccb1"
      },
      "execution_count": 16,
      "outputs": [
        {
          "output_type": "stream",
          "name": "stdout",
          "text": [
            "¿Cuántos elementos quieres ingresar? 2\n",
            "Ingresa el elemento 1: 3\n",
            "Ingresa el elemento 2: 2\n",
            "La lista invertida es: ['2', '3']\n"
          ]
        }
      ]
    },
    {
      "cell_type": "code",
      "source": [
        "def serie_fibonacci():\n",
        "    N = int(input(\"¿Cuántos números de la serie de Fibonacci deseas generar? \"))\n",
        "    FIB = [0, 1]\n",
        "    for i in range(2, N):\n",
        "        FIB.append(FIB[i-1] + FIB[i-2])\n",
        "    return FIB\n",
        "\n",
        "serie = serie_fibonacci()\n",
        "print(\"La serie de Fibonacci es:\", serie)"
      ],
      "metadata": {
        "colab": {
          "base_uri": "https://localhost:8080/"
        },
        "id": "UT8v2S5y4raK",
        "outputId": "1f96531d-328c-49f6-d489-7a33c459b788"
      },
      "execution_count": 19,
      "outputs": [
        {
          "output_type": "stream",
          "name": "stdout",
          "text": [
            "¿Cuántos números de la serie de Fibonacci deseas generar? 20\n",
            "La serie de Fibonacci es: [0, 1, 1, 2, 3, 5, 8, 13, 21, 34, 55, 89, 144, 233, 377, 610, 987, 1597, 2584, 4181]\n"
          ]
        }
      ]
    }
  ]
}